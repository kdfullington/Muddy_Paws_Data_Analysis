{
 "cells": [
  {
   "cell_type": "code",
   "execution_count": 1,
   "id": "89d8bcf3",
   "metadata": {},
   "outputs": [],
   "source": [
    "# import necessary libraries\n",
    "import numpy as np\n",
    "import pandas as pd\n",
    "import math\n",
    "import statistics\n",
    "import matplotlib.pyplot as plt\n",
    "from scipy import stats\n",
    "%matplotlib inline\n",
    "import regex as re"
   ]
  },
  {
   "cell_type": "code",
   "execution_count": 2,
   "id": "63bf6575",
   "metadata": {},
   "outputs": [],
   "source": [
    "# Read Muddy Paws excel data file and assign it to a variable as a dataframe\n",
    "muddy_p_df = pd.read_excel('muddy_p_original_data.xlsx')"
   ]
  },
  {
   "cell_type": "code",
   "execution_count": 3,
   "id": "134ffcc7",
   "metadata": {},
   "outputs": [],
   "source": [
    "# Set Jupyter notebook to show all columns in the dataframe\n",
    "# pd.set_option('max_columns', None)"
   ]
  },
  {
   "cell_type": "markdown",
   "id": "958e5676",
   "metadata": {},
   "source": [
    "### Update the column names to a format that is friendly for the pandas methods."
   ]
  },
  {
   "cell_type": "code",
   "execution_count": 4,
   "id": "ba3b45c7",
   "metadata": {},
   "outputs": [],
   "source": [
    "# Remove spaces and replace with an underscore (_)\n",
    "muddy_p_df.columns = muddy_p_df.columns.str.replace(' ', '_')\n",
    "# Change case to lowercase in all columns\n",
    "muddy_p_df.columns = muddy_p_df.columns.str.lower()\n",
    "# Remove apostrophes\n",
    "muddy_p_df.columns = muddy_p_df.columns.str.replace(\"'\", \"\")"
   ]
  },
  {
   "cell_type": "code",
   "execution_count": 5,
   "id": "3cfaa1f7",
   "metadata": {},
   "outputs": [],
   "source": [
    "# Remove question marks ?\n",
    "muddy_p_df.columns = muddy_p_df.columns.str.replace('?', '', regex = True)\n",
    "# Remove opening parenthesis (\n",
    "muddy_p_df.columns = muddy_p_df.columns.str.replace('\\\\(', '', regex = True)\n",
    "# Remove closing parenthesis )\n",
    "muddy_p_df.columns = muddy_p_df.columns.str.replace('\\\\)', '', regex = True)\n",
    "# Replace forward slash / with underscore _\n",
    "muddy_p_df.columns = muddy_p_df.columns.str.replace('/', '_', regex = True)\n",
    "# Replace .1 with _1\n",
    "muddy_p_df.columns = muddy_p_df.columns.str.replace('.1', '_1', regex = True)"
   ]
  },
  {
   "cell_type": "code",
   "execution_count": 6,
   "id": "4975cf31",
   "metadata": {},
   "outputs": [
    {
     "data": {
      "text/plain": [
       "Index(['pet_name', 'pet_breed', 'date_pet_entered_your_care',\n",
       "       'length_of_stay_days', 'adoption_foster_date', 'current_status',\n",
       "       'pet_type', 'pet_age', 'pet_owners_cell_number',\n",
       "       'pet_owners_work_phone', 'pet_owners_home_number', 'petstablished_id',\n",
       "       'size', 'weight', 'color', 'shedding', 'coat_length', 'temperament',\n",
       "       'breed_type', 'current_location', 'current_foster_adopter',\n",
       "       'current_foster_adopter_email', 'current_foster_adopter_phone_number',\n",
       "       'date_placed_in_current_location', 'microchip_id',\n",
       "       'microchip_manufacturer', 'adoption_fee', 'internal_id',\n",
       "       'animal_control_id', 'adoption_application_visible',\n",
       "       'foster_application_visible', 'last_updated_at', 'gender',\n",
       "       'previous_owner_information', 'acquired_by', 'date_of_birth',\n",
       "       'age_in_years', 'declawed_status', 'coat_pattern', 'events_attendance',\n",
       "       'is_mix', 'shots_up_to_date', 'spayed_neutered', 'hypoallergenic',\n",
       "       'housebroken', 'special_need', 'needs_foster', 'gets_along_with_cats',\n",
       "       'gets_along_with_dogs', 'gets_along_with_kids', 'description',\n",
       "       'internal_notes', 'behavioral_tracking_notes',\n",
       "       'has_finalized_application', 'where_was_pet_originally_found',\n",
       "       'date_pet_entered_your_care_1', 'coordinators', 'additional_comments',\n",
       "       'owner_requested_euthanasia', 'additional_internal_comments',\n",
       "       'type_of_intake', 'siblings'],\n",
       "      dtype='object')"
      ]
     },
     "execution_count": 6,
     "metadata": {},
     "output_type": "execute_result"
    }
   ],
   "source": [
    "muddy_p_df.columns"
   ]
  },
  {
   "cell_type": "code",
   "execution_count": 7,
   "id": "a338e476",
   "metadata": {},
   "outputs": [],
   "source": [
    "# Drop all the columns with personal information\n",
    "muddy_p_df = muddy_p_df.drop(['pet_owners_cell_number', 'pet_owners_work_phone', 'pet_owners_home_number', 'current_foster_adopter', \n",
    "               'current_foster_adopter_email', 'current_foster_adopter_phone_number', 'previous_owner_information', \n",
    "                             'current_location'], axis = 1)"
   ]
  },
  {
   "cell_type": "code",
   "execution_count": 8,
   "id": "fdd00178",
   "metadata": {},
   "outputs": [
    {
     "data": {
      "text/plain": [
       "Index(['pet_name', 'pet_breed', 'date_pet_entered_your_care',\n",
       "       'length_of_stay_days', 'adoption_foster_date', 'current_status',\n",
       "       'pet_type', 'pet_age', 'petstablished_id', 'size', 'weight', 'color',\n",
       "       'shedding', 'coat_length', 'temperament', 'breed_type',\n",
       "       'date_placed_in_current_location', 'microchip_id',\n",
       "       'microchip_manufacturer', 'adoption_fee', 'internal_id',\n",
       "       'animal_control_id', 'adoption_application_visible',\n",
       "       'foster_application_visible', 'last_updated_at', 'gender',\n",
       "       'acquired_by', 'date_of_birth', 'age_in_years', 'declawed_status',\n",
       "       'coat_pattern', 'events_attendance', 'is_mix', 'shots_up_to_date',\n",
       "       'spayed_neutered', 'hypoallergenic', 'housebroken', 'special_need',\n",
       "       'needs_foster', 'gets_along_with_cats', 'gets_along_with_dogs',\n",
       "       'gets_along_with_kids', 'description', 'internal_notes',\n",
       "       'behavioral_tracking_notes', 'has_finalized_application',\n",
       "       'where_was_pet_originally_found', 'date_pet_entered_your_care_1',\n",
       "       'coordinators', 'additional_comments', 'owner_requested_euthanasia',\n",
       "       'additional_internal_comments', 'type_of_intake', 'siblings'],\n",
       "      dtype='object')"
      ]
     },
     "execution_count": 8,
     "metadata": {},
     "output_type": "execute_result"
    }
   ],
   "source": [
    "muddy_p_df.columns"
   ]
  },
  {
   "cell_type": "code",
   "execution_count": 9,
   "id": "c54af61a",
   "metadata": {},
   "outputs": [],
   "source": [
    "# Change all text data in the dataframe to lowercase to make it easier to work with later\n",
    "muddy_p_df = muddy_p_df.apply(lambda x: x.astype(str).str.lower())"
   ]
  },
  {
   "cell_type": "code",
   "execution_count": 10,
   "id": "cb3096e2",
   "metadata": {},
   "outputs": [],
   "source": [
    "pd.set_option('max_columns', None)\n",
    "# muddy_p_df.head(5)"
   ]
  },
  {
   "cell_type": "markdown",
   "id": "fbc41428",
   "metadata": {},
   "source": [
    "### Change the data types in the columns to better support analysis. This includes changing to datetime, string, binary, and categorical data."
   ]
  },
  {
   "cell_type": "markdown",
   "id": "c3d154e5",
   "metadata": {},
   "source": [
    "Change pet_name to a string to prepare it to work with later."
   ]
  },
  {
   "cell_type": "code",
   "execution_count": 11,
   "id": "337c26cf",
   "metadata": {},
   "outputs": [
    {
     "name": "stdout",
     "output_type": "stream",
     "text": [
      "Old type:  object\n",
      "New type:  string\n"
     ]
    }
   ],
   "source": [
    "# Check pet_name type\n",
    "print(\"Old type: \", muddy_p_df.pet_name.dtypes)\n",
    "# Change pet_name entries to strings\n",
    "muddy_p_df.pet_name = muddy_p_df.pet_name.astype('string')\n",
    "# Check pet_name type again\n",
    "print(\"New type: \", muddy_p_df.pet_name.dtypes)\n",
    "# Change the strings to lowercase\n",
    "muddy_p_df.pet_name = muddy_p_df.pet_name.str.lower()"
   ]
  },
  {
   "cell_type": "markdown",
   "id": "bec79ed0",
   "metadata": {},
   "source": [
    "Change date columns to datetime data type."
   ]
  },
  {
   "cell_type": "code",
   "execution_count": 12,
   "id": "088848ce",
   "metadata": {},
   "outputs": [
    {
     "name": "stdout",
     "output_type": "stream",
     "text": [
      "The data type of date_pet_entered_your_care is:  object\n",
      "The data type of date_pet_entered_your_care_1 is:  object\n",
      "The data type of last_updated_at is:  object\n",
      "The data type of adoption_foster_date is:  object\n",
      "The data type of date_placed_in_current_location is:  object\n",
      "The data type of date_of_birth is:  object\n"
     ]
    }
   ],
   "source": [
    "# Check to verify if the date columns are in datetime\n",
    "print('The data type of date_pet_entered_your_care is: ', muddy_p_df.date_pet_entered_your_care.dtypes)\n",
    "print('The data type of date_pet_entered_your_care_1 is: ', muddy_p_df.date_pet_entered_your_care_1.dtypes)\n",
    "print('The data type of last_updated_at is: ', muddy_p_df.last_updated_at.dtypes)\n",
    "print('The data type of adoption_foster_date is: ', muddy_p_df.adoption_foster_date.dtypes)\n",
    "print('The data type of date_placed_in_current_location is: ', muddy_p_df.date_placed_in_current_location.dtypes)\n",
    "print('The data type of date_of_birth is: ', muddy_p_df.date_of_birth.dtypes)"
   ]
  },
  {
   "cell_type": "code",
   "execution_count": 13,
   "id": "ba7c0d64",
   "metadata": {},
   "outputs": [],
   "source": [
    "# When trying to change to datetime, I got an error because one of the columns contained this: '02/08/-4711'\n",
    "# Replace all the - in these columns with nothing\n",
    "date_columns = ['date_pet_entered_your_care', 'date_pet_entered_your_care_1', 'last_updated_at', 'adoption_foster_date', \n",
    "               'date_placed_in_current_location', 'date_of_birth']\n",
    "muddy_p_df[date_columns] = muddy_p_df[date_columns].replace({'-':''}, regex = True)"
   ]
  },
  {
   "cell_type": "code",
   "execution_count": 14,
   "id": "7891b26c",
   "metadata": {},
   "outputs": [],
   "source": [
    "# adoption_foster_date, date_placed_in_current_location, and date_of_birth are all objects\n",
    "# I want them to be datetime, so I will change them here\n",
    "\n",
    "# Initiate a list containing the names of the columns I want to change to datetime\n",
    "col = ['date_pet_entered_your_care', 'date_pet_entered_your_care_1', 'last_updated_at', 'adoption_foster_date', \n",
    "               'date_placed_in_current_location', 'date_of_birth']\n",
    "\n",
    "# Use a for loop to run through the list of column names and change the data types in those columns to datetime\n",
    "# Got an error for format in one of the rows (4711-02-08 00:00:00), so changing values like that to NaT by using \"errors = 'coerce'\"\n",
    "for col in col:\n",
    "    muddy_p_df[col] = pd.to_datetime(muddy_p_df[col], errors = 'coerce')"
   ]
  },
  {
   "cell_type": "code",
   "execution_count": 15,
   "id": "3a5b76ee",
   "metadata": {},
   "outputs": [
    {
     "name": "stdout",
     "output_type": "stream",
     "text": [
      "The data type of the date_pet_entered_your_care column is now:  datetime64[ns]\n",
      "The data type of the date_pet_entered_your_care_1 column is now:  datetime64[ns]\n",
      "The data type of the last_updated_at column is now:  datetime64[ns]\n",
      "The data type of adoption_foster_date column is now:  datetime64[ns]\n",
      "The data type of date_placed_in_current_location column is now:  datetime64[ns]\n",
      "The data type of of date_of_birth column is now:  datetime64[ns]\n"
     ]
    }
   ],
   "source": [
    "# Check the column names to verify that the datetime changes have been made\n",
    "# muddy_p_df.columns\n",
    "print('The data type of the date_pet_entered_your_care column is now: ', muddy_p_df.date_pet_entered_your_care.dtypes)\n",
    "print('The data type of the date_pet_entered_your_care_1 column is now: ', muddy_p_df.date_pet_entered_your_care_1.dtypes)\n",
    "print('The data type of the last_updated_at column is now: ', muddy_p_df.last_updated_at.dtypes)\n",
    "print('The data type of adoption_foster_date column is now: ', muddy_p_df.adoption_foster_date.dtypes)\n",
    "print('The data type of date_placed_in_current_location column is now: ', muddy_p_df.date_placed_in_current_location.dtypes)\n",
    "print('The data type of of date_of_birth column is now: ', muddy_p_df.date_of_birth.dtypes)"
   ]
  },
  {
   "cell_type": "markdown",
   "id": "d37391fb",
   "metadata": {},
   "source": [
    "Adapt columns with yes/no responses to be binary. Some of them have 'not sure' values. I will be changing those to NaN."
   ]
  },
  {
   "cell_type": "code",
   "execution_count": 16,
   "id": "6ec8b06f",
   "metadata": {},
   "outputs": [],
   "source": [
    "# Replace all 'not sure' responses with NaN\n",
    "muddy_p_df = muddy_p_df.replace({'not sure': None}, regex = True)"
   ]
  },
  {
   "cell_type": "code",
   "execution_count": 17,
   "id": "f27808ca",
   "metadata": {},
   "outputs": [],
   "source": [
    "# Replace None and NA values with nan (in preparation for changing yes/no answers to binary)\n",
    "muddy_p_df = muddy_p_df.fillna(value = np.nan)"
   ]
  },
  {
   "cell_type": "code",
   "execution_count": 18,
   "id": "c22e9abd",
   "metadata": {},
   "outputs": [],
   "source": [
    "# I want columns with only two possible responses to change to binary\n",
    "\n",
    "# Use .replace to change every no in the dataframe to 0 and every yes in the dataframe to 1\n",
    "# no=0, yes=1\n",
    "muddy_p_df = muddy_p_df.replace(to_replace = ['no', 'yes'], value = [0, 1])"
   ]
  },
  {
   "cell_type": "markdown",
   "id": "d990e016",
   "metadata": {},
   "source": [
    "Change columns with more than one string response (non-numeric data) to categorical datatype."
   ]
  },
  {
   "cell_type": "code",
   "execution_count": 19,
   "id": "915b98f2",
   "metadata": {},
   "outputs": [],
   "source": [
    "# the temperament column has various text data separated by ; and , sometimes"
   ]
  },
  {
   "cell_type": "code",
   "execution_count": 20,
   "id": "d83d8b8f",
   "metadata": {},
   "outputs": [],
   "source": [
    "# Could optionally change gender to binary, but currently will leave as categorical."
   ]
  },
  {
   "cell_type": "code",
   "execution_count": 21,
   "id": "5ed00692",
   "metadata": {},
   "outputs": [],
   "source": [
    "# I want columns with categories to turn to the categorical data type.\n",
    "# I will do this using a for loop\n",
    "\n",
    "# Initate a list of the column names I want to change to categorical\n",
    "col_cat = ['current_status', 'pet_type', 'pet_age', 'size', 'gender', 'shedding', 'coat_length', 'breed_type', 'spayed_neutered', \n",
    "           'declawed_status', 'coat_pattern', 'events_attendance', 'where_was_pet_originally_found', 'coordinators', \n",
    "           'type_of_intake']\n",
    "\n",
    "# Use a for loop to iterate through the list of column names and apply the type 'category' to each one\n",
    "for col in col_cat:\n",
    "    muddy_p_df[col_cat] = muddy_p_df[col_cat].astype('category')"
   ]
  },
  {
   "cell_type": "markdown",
   "id": "5143d654",
   "metadata": {},
   "source": [
    "### Making new columns from the pet_name column. It contains a lot of information that I don't want in there, but I would still like to keep for later"
   ]
  },
  {
   "cell_type": "markdown",
   "id": "f823aa0a",
   "metadata": {},
   "source": [
    "Prior to cleaning the miscellaneous data out of the pet_name column, we first need to make new columns to contain the relevant data. For instance, we need columns for courtesy posts and cross posts."
   ]
  },
  {
   "cell_type": "code",
   "execution_count": 22,
   "id": "50114078",
   "metadata": {},
   "outputs": [],
   "source": [
    "# Ascertain whether the pet_name column contains 'Courtesy' and make a new column called 'courtesy_post' with yes or no\n",
    "muddy_p_df['courtesy_post'] = muddy_p_df.pet_name.apply(lambda row: 'yes' if 'courtesy' in row else 'no')"
   ]
  },
  {
   "cell_type": "code",
   "execution_count": 23,
   "id": "7055f5b9",
   "metadata": {},
   "outputs": [],
   "source": [
    "# Ascertain whether the pet_name column contains 'cross post' and create a new column called 'cross_post' with yes or no\n",
    "muddy_p_df['cross_post'] = muddy_p_df.pet_name.apply(lambda row: 'yes' if 'cross' in row else 'no')"
   ]
  },
  {
   "cell_type": "markdown",
   "id": "c78c1173",
   "metadata": {},
   "source": [
    "Create and clean litter_name column"
   ]
  },
  {
   "cell_type": "code",
   "execution_count": 24,
   "id": "2519f475",
   "metadata": {},
   "outputs": [],
   "source": [
    "# Using insert(), add empty column at third position\n",
    "muddy_p_df.insert(2, 'litter_name', \" \")"
   ]
  },
  {
   "cell_type": "code",
   "execution_count": 25,
   "id": "c9519bf8",
   "metadata": {},
   "outputs": [],
   "source": [
    "# Initiate a list that contains the strings that indicate an animal is part of a litter\n",
    "litter_list = [\"'s\", 'tx', 'ok', 'oklahoma', 'litter', 'kittens', 'kitten', 'pup', 'puppies', 'kitten', 'precious gems']\n",
    "# Use .loc to copy the values from pet_name to litter_name if pet_name contains any values in litter_list\n",
    "muddy_p_df.loc[muddy_p_df.pet_name.str.contains('|'.join(litter_list), case = False), 'litter_name'] = muddy_p_df.pet_name"
   ]
  },
  {
   "cell_type": "code",
   "execution_count": 26,
   "id": "ae34ada0",
   "metadata": {},
   "outputs": [],
   "source": [
    "# Some of the rows (such as bonita's litter) have unusual characters in them, so we need to remove those characters\n",
    "muddy_p_df = muddy_p_df.replace({'litter_name': {'â':'', '€':'', '™':''}}, regex = True)"
   ]
  },
  {
   "cell_type": "code",
   "execution_count": 27,
   "id": "3f5fdac8",
   "metadata": {},
   "outputs": [],
   "source": [
    "# Insert another column that identifies if an animal is a litter parent (usually indicated by 'mama' or 'mom')\n",
    "muddy_p_df.insert(3, 'parent_of_litter', \" \")"
   ]
  },
  {
   "cell_type": "code",
   "execution_count": 28,
   "id": "630a10ca",
   "metadata": {},
   "outputs": [],
   "source": [
    "# Initiate a list including common ways to refer to parents\n",
    "litter_mama_list = ['mama', 'mom', 'mother', 'dad', 'papa', 'pa', 'ma', 'father']\n",
    "# use str.extract to grab the parent names and put them in the new parent_of_litter column\n",
    "muddy_p_df.parent_of_litter = muddy_p_df.litter_name.str.extract(pat = '(mama|mom|dad|papa|father|mother)', expand = False)"
   ]
  },
  {
   "cell_type": "code",
   "execution_count": 29,
   "id": "2df8a477",
   "metadata": {},
   "outputs": [],
   "source": [
    "# Later, we will be using the word \"litter\" to split off certain parts of the strings\n",
    "# We don't want to lose \"litter of 10\" and \"litter of 14\" so we are replacing both now with the strings '10' and '14' respectively\n",
    "muddy_p_df.loc[muddy_p_df.litter_name.str.contains('litter of 10'), 'litter_name'] = '10'\n",
    "muddy_p_df.loc[muddy_p_df.litter_name.str.contains('litter of 14'), 'litter_name'] = '14'"
   ]
  },
  {
   "cell_type": "code",
   "execution_count": 30,
   "id": "e499d06b",
   "metadata": {},
   "outputs": [],
   "source": [
    "# Create lists of words to be involved in splitting the litter names off the pet_name column and put them in a new column (litter_name)\n",
    "\n",
    "# Removes things such as \"-forever foster\" and \"-adoption pending\" as well as the litter names\n",
    "litter_remove_list = ['litter: ', 'litter:', 'litter ', 'litter -','- adop', '-adop', '- for', '-for', '- pend', '-pend', '- no', \n",
    "                      'litter ', \"'s\", 'kitten', 'kittens', '(missouri)','missouri pup', 'pup', 'puppy', 'of the', '(okla', 'blue litter', 'boxer pup', 'pup', \n",
    "                     'collie', '11', 'authors', '(tx 13', '(three', 'texas litter', 'texas pup', 'rosie', 'bonita', \"joplin's\", \n",
    "                     'precious gems']\n",
    "\n",
    "# Focuses on the litters with spaces separating them from the pet_names as opposed to any puncutation\n",
    "spaces_litter_list = ['blue litter', 'border litter', 'boxer pup', 'jewels pup', 'joplin', 'missouri pup', \n",
    "                'texas litter', 'litter']\n",
    "\n",
    "# Focuses on the 'tx 13' litter. The indications for this litter were inconsistent (i.e. 'alan of the tx 13' and 'penny - tx 13')\n",
    "tx13_litter_list = ['- tx 13']\n",
    "\n",
    "# Focuses on miscellaneous litter indications after running through all the lists above\n",
    "misc_litter_list = [\"rosie's pup\", \"joplin's\"]\n",
    "\n",
    "# Focuses on removing the last bit of puncutation after running through the lists above\n",
    "punc_remove_list = [')',\"'\"]\n",
    "\n",
    "# Focuses on removing  'courtesy post' and 'cross post' after running through the lists above\n",
    "court_cross = ['court', 'cross', '(court', '(cross', '(courtesy post)']\n",
    "\n",
    "# Focuses on the joplin's rock legends litter, which had some weird puncuation\n",
    "final_litter_list = ['joplin']"
   ]
  },
  {
   "cell_type": "code",
   "execution_count": 31,
   "id": "02cd91d8",
   "metadata": {},
   "outputs": [],
   "source": [
    "# Use a for loop to look for any of the litter_remove_list values in the rows of litter_name\n",
    "for str1 in litter_remove_list:\n",
    "    # Split the strings into lists on : - 's and ,\n",
    "    muddy_p_df.litter_name = muddy_p_df.litter_name.apply(lambda row: re.split(\":|-|'s|,\", row) if str1 in row else row)\n",
    "    # Pop the end of the list off the list if the row type is a list\n",
    "    muddy_p_df.litter_name = muddy_p_df.litter_name.apply(lambda row: row.pop(0) if type(row) == list else row)"
   ]
  },
  {
   "cell_type": "code",
   "execution_count": 32,
   "id": "c296f107",
   "metadata": {},
   "outputs": [],
   "source": [
    "# Use a for loop to look for any of the litter_remove_list values in the rows of litter_name\n",
    "for str1 in litter_remove_list:\n",
    "    # Split the strings into lists on 'of the' and (\n",
    "    muddy_p_df.litter_name = muddy_p_df.litter_name.apply(lambda row: re.split('of the|\\(', row) if str1 in row else row)\n",
    "    # Pop the beginning of the list off the list if the row type is a list\n",
    "    muddy_p_df.litter_name = muddy_p_df.litter_name.apply(lambda row: row.pop(-1) if type(row) == list else row)"
   ]
  },
  {
   "cell_type": "code",
   "execution_count": 33,
   "id": "34490344",
   "metadata": {},
   "outputs": [],
   "source": [
    "# Use a for loop to look for any of the spaces_litter_list values in the rows of litter_name\n",
    "for str1 in spaces_litter_list:\n",
    "    # Split the strings into lists on 'litter'\n",
    "    muddy_p_df.litter_name = muddy_p_df.litter_name.apply(lambda row: re.split('litter', row) if str1 in row else row)\n",
    "    # Pop the end of the list off the list if the row type is a list\n",
    "    muddy_p_df.litter_name = muddy_p_df.litter_name.apply(lambda row: row.pop(0) if type(row) == list else row)"
   ]
  },
  {
   "cell_type": "code",
   "execution_count": 34,
   "id": "5dad368f",
   "metadata": {},
   "outputs": [],
   "source": [
    "# # Use a for loop to look for any of the tx13_litter_list values in the rows of litter_name\n",
    "for str1 in tx13_litter_list:\n",
    "    # Split the strings into lists on -\n",
    "    muddy_p_df.litter_name = muddy_p_df.litter_name.apply(lambda row: re.split('-', row) if str1 in row else row)\n",
    "    # Pop the beginning of the list off the list if the row type is a list\n",
    "    muddy_p_df.litter_name = muddy_p_df.litter_name.apply(lambda row: row.pop(-1) if type(row) == list else row)"
   ]
  },
  {
   "cell_type": "code",
   "execution_count": 35,
   "id": "93fcf5a0",
   "metadata": {},
   "outputs": [],
   "source": [
    "# Use a for loop to look for any of the punc_remove_list values in the rows of litter_name\n",
    "for str1 in punc_remove_list:\n",
    "    # Split the strings into lists on )\n",
    "    muddy_p_df.litter_name = muddy_p_df.litter_name.apply(lambda row: re.split('\\)', row) if str1 in row else row)\n",
    "    # Pop the end of the list off the list if the row type is a list\n",
    "    muddy_p_df.litter_name = muddy_p_df.litter_name.apply(lambda row: row.pop(0) if type(row) == list else row)"
   ]
  },
  {
   "cell_type": "code",
   "execution_count": 36,
   "id": "8b409f55",
   "metadata": {},
   "outputs": [],
   "source": [
    "# Use a for loop to look for any of the litter_remove_list values in the rows of litter_name\n",
    "for str1 in litter_remove_list:\n",
    "    # Split the strings into lists on 'p '\n",
    "    muddy_p_df.litter_name = muddy_p_df.litter_name.apply(lambda row: re.split(\"p \", row) if str1 in row else row)\n",
    "    # Pop the end of the list off the list if the row type is a list\n",
    "    muddy_p_df.litter_name = muddy_p_df.litter_name.apply(lambda row: row.pop(0) if type(row) == list else row)"
   ]
  },
  {
   "cell_type": "code",
   "execution_count": 37,
   "id": "da62d150",
   "metadata": {},
   "outputs": [],
   "source": [
    "# Use a for loop to look for any of the court_cross values in the rows of litter_name\n",
    "for str1 in court_cross:\n",
    "    # Split the strings into lists on ( and :\n",
    "    muddy_p_df.litter_name = muddy_p_df.litter_name.apply(lambda row: re.split('\\(|:', row) if str1 in row else row)\n",
    "    # Pop the end of the list off the list if the row type is a list\n",
    "    muddy_p_df.litter_name = muddy_p_df.litter_name.apply(lambda row: row.pop(0) if type(row) == list else row)"
   ]
  },
  {
   "cell_type": "code",
   "execution_count": 38,
   "id": "300f2bdc",
   "metadata": {},
   "outputs": [],
   "source": [
    "# Get rid of leading and ending spaces in each row of the litter_name column\n",
    "muddy_p_df.litter_name = muddy_p_df.litter_name.str.strip()"
   ]
  },
  {
   "cell_type": "code",
   "execution_count": 39,
   "id": "0a0dc2ba",
   "metadata": {},
   "outputs": [],
   "source": [
    "# In the litter_name colum, get rid of the last of the apostrophes '\n",
    "muddy_p_df = muddy_p_df.replace({'litter_name': {\"'\":''}}, regex = True)"
   ]
  },
  {
   "cell_type": "code",
   "execution_count": 40,
   "id": "471e2bce",
   "metadata": {},
   "outputs": [],
   "source": [
    "# Use a for loop to look for any of the final_litter_list values in the rows of litter_name\n",
    "for str1 in final_litter_list:\n",
    "    # Split the strings into lists on s\n",
    "    muddy_p_df.litter_name = muddy_p_df.litter_name.apply(lambda row: re.split('s', row) if str1 in row else row)\n",
    "    # Pop the end of the list off the list if the row type is a list\n",
    "    muddy_p_df.litter_name = muddy_p_df.litter_name.apply(lambda row: row.pop(0) if type(row) == list else row)"
   ]
  },
  {
   "cell_type": "code",
   "execution_count": 41,
   "id": "73581bc2",
   "metadata": {},
   "outputs": [],
   "source": [
    "# Use a for loop to look for any of the punc_remove_list values in the rows of litter_name\n",
    "for str1 in punc_remove_list:\n",
    "    # Split the strings into lists on s\n",
    "    muddy_p_df.litter_name = muddy_p_df.litter_name.apply(lambda row: re.split('s', row) if str1 in row else row)\n",
    "    # Pop the end of the list off the list if the row type is a list\n",
    "    muddy_p_df.litter_name = muddy_p_df.litter_name.apply(lambda row: row.pop(0) if type(row) == list else row)"
   ]
  },
  {
   "cell_type": "markdown",
   "id": "29e7692f",
   "metadata": {},
   "source": [
    "Create nickname_or_fka column"
   ]
  },
  {
   "cell_type": "code",
   "execution_count": 42,
   "id": "663c6b3f",
   "metadata": {},
   "outputs": [],
   "source": [
    "# Using insert(), add empty column at third position\n",
    "muddy_p_df.insert(2, 'other_name', \" \")"
   ]
  },
  {
   "cell_type": "code",
   "execution_count": 43,
   "id": "8b7da85b",
   "metadata": {},
   "outputs": [],
   "source": [
    "# Initiate a list that contains the strings that indicate an animal has a nickname, or fka name\n",
    "other_name_list = ['aka', 'addie', '\"gus\"', 'bj', 'formerly known as', 'fka', '\"ollie\"', 'for short', 'pronounced', \n",
    "              'sal', 'sammy', 'mazi']\n",
    "# Use .loc to copy the values from pet_name to litter_name if pet_name contains any values in litter_list\n",
    "muddy_p_df.loc[muddy_p_df.pet_name.str.contains('|'.join(other_name_list), regex = True, case = False), 'other_name'] = muddy_p_df.pet_name"
   ]
  },
  {
   "cell_type": "markdown",
   "id": "aa51ba60",
   "metadata": {},
   "source": [
    "### Clean pet_name column, now that litter_name, parent_of_litter, and other_name have been derived from it."
   ]
  },
  {
   "cell_type": "code",
   "execution_count": 44,
   "id": "612f05bc",
   "metadata": {},
   "outputs": [],
   "source": [
    "pd.set_option('max_rows', None)"
   ]
  },
  {
   "cell_type": "code",
   "execution_count": 45,
   "id": "af833736",
   "metadata": {},
   "outputs": [],
   "source": [
    "# Initiate lists\n",
    "remove_rightstat_list = ['(for', '-for', '- for', 'for', 'forever foster' '(pend', '-pend', '- pend', '(adop', '-adop', '- adop', '(no', '-no', '- no', \n",
    "                    'court', 'cross', 'asop', '/pend', '- court', 'med', '/adop']\n",
    "remove_left_petname_list = ['litter', '(missouri) -','kittens', 'pup', \"'s\", 'border', 'divas', \"'mummy'\", 'guinea', 'gems', \n",
    "                           'louisiana', 'tote', '11', 'skittles', 'clause', 'kitten', 'tuna', '-tx 13', '\"', 'gecko: ']\n",
    "remove_right_petname_list = ['oklahoma', 'of the tx 13', '(', '- tx 13', 'chi', 'mother']"
   ]
  },
  {
   "cell_type": "code",
   "execution_count": 46,
   "id": "05b9a5dd",
   "metadata": {},
   "outputs": [],
   "source": [
    "# Some of the rows have unusual characters in them, so we need to remove those characters\n",
    "muddy_p_df = muddy_p_df.replace({'pet_name': {'â':'', '€':'', '™':'', '-':'-'}}, regex = True)"
   ]
  },
  {
   "cell_type": "code",
   "execution_count": 47,
   "id": "0f559cf8",
   "metadata": {},
   "outputs": [],
   "source": [
    "# I made this list when reviewing what the various for loops had done. These entries were throwing things off, so I decided to\n",
    "# manually remove them\n",
    "random_edits = ['\\(kitten\\)', '\\(chihuahua\\)', '\\(yorkie puppy\\)',  '\\(oklahoma lab litter\\)']\n",
    "# Use str.replace with regex = True to strip characters in the list from the column\n",
    "muddy_p_df.pet_name = muddy_p_df.pet_name.str.replace('|'.join(random_edits), '', regex = True).str.strip()"
   ]
  },
  {
   "cell_type": "code",
   "execution_count": 48,
   "id": "6135c975",
   "metadata": {},
   "outputs": [],
   "source": [
    "# This list is for removing statuses to the right of the name I want to keep\n",
    "# Statuses include things such as 'adoption pending' and '(forever foster)'\n",
    "\n",
    "# Initiate for loop\n",
    "for str1 in remove_rightstat_list:\n",
    "    # Choose the character strings to on which to split into lists if the row contains a string from the list\n",
    "    muddy_p_df.pet_name = muddy_p_df.pet_name.apply(lambda row: re.split('\\(|//|-adop|- ado|- no|- pend|- cou|\\/adop|- for', row) if str1 in row else row)\n",
    "    # If the element in the row is a list, remove the last entry in the list (on the right)\n",
    "    muddy_p_df.pet_name = muddy_p_df.pet_name.apply(lambda row: row.pop(0) if type(row) == list else row)"
   ]
  },
  {
   "cell_type": "code",
   "execution_count": 49,
   "id": "3dab9f94",
   "metadata": {},
   "outputs": [],
   "source": [
    "# This list is for removing a more general selection of strings from the right side of the column\n",
    "# These can be things such as the litter name\n",
    "\n",
    "# Initiate the loop\n",
    "for str1 in remove_right_petname_list:\n",
    "    # Choose the character strings to on which to split into lists if the row contains a string from the list\n",
    "    muddy_p_df.pet_name = muddy_p_df.pet_name.apply(lambda row: re.split('of the|,|med| - mo, |tx| \"addie\"', row) if str1 in row else row)\n",
    "    # If the element in the row is a list, remove the last entry in the list (on the right)\n",
    "    muddy_p_df.pet_name = muddy_p_df.pet_name.apply(lambda row: row.pop(0) if type(row) == list else row)"
   ]
  },
  {
   "cell_type": "code",
   "execution_count": 50,
   "id": "44d13d97",
   "metadata": {},
   "outputs": [],
   "source": [
    "# This list is for removing a more general selection of strings (usually litter names) from the left side of the column\n",
    "\n",
    "# Initiate the loop\n",
    "for str1 in remove_left_petname_list:\n",
    "    # Choose the character strings to on which to split into lists if the row contains a string from the list\n",
    "    muddy_p_df.pet_name = muddy_p_df.pet_name.apply(lambda row: re.split(\":|'s|litter -|puppy|litter|pup|tunas -|'mummy'\", row) if str1 in row else row)\n",
    "    # If the element in the row is a list, remove the first entry in the list (on the left)\n",
    "    muddy_p_df.pet_name = muddy_p_df.pet_name.apply(lambda row: row.pop(-1) if type(row) == list else row)"
   ]
  },
  {
   "cell_type": "markdown",
   "id": "ade3e734",
   "metadata": {},
   "source": [
    "I often had to repeat for loops using different splitting characters because certain characters needed to be removed before others. Otherwise, I would remove things that I did not wish to remove."
   ]
  },
  {
   "cell_type": "code",
   "execution_count": 51,
   "id": "970d63b3",
   "metadata": {},
   "outputs": [],
   "source": [
    "# Using the left_petname list again with a different delmiting character\n",
    "\n",
    "# Initiate the loop\n",
    "for str1 in remove_left_petname_list:\n",
    "    # Choose the character strings to on which to split into lists if the row contains a string from the list\n",
    "    muddy_p_df.pet_name = muddy_p_df.pet_name.apply(lambda row: re.split('\\) -', row) if str1 in row else row)\n",
    "    # If the element in the row is a list, remove the first entry in the list (on the left)\n",
    "    muddy_p_df.pet_name = muddy_p_df.pet_name.apply(lambda row: row.pop(-1) if type(row) == list else row)"
   ]
  },
  {
   "cell_type": "code",
   "execution_count": 52,
   "id": "9de25c66",
   "metadata": {},
   "outputs": [],
   "source": [
    "# Get rid of leading and ending spaces in each row of the pet_name column\n",
    "muddy_p_df.pet_name = muddy_p_df.pet_name.str.strip()"
   ]
  },
  {
   "cell_type": "markdown",
   "id": "e3752489",
   "metadata": {},
   "source": [
    "Here, I got really tired of dealing with the very finicky ordering of the for loops and just scrolled through looking for whatever characters were left. It was starting to become a really big time sink, so I sacrificed elegance for speed."
   ]
  },
  {
   "cell_type": "code",
   "execution_count": 53,
   "id": "6ef7e13b",
   "metadata": {},
   "outputs": [],
   "source": [
    "# This is a list of the various strings my for loops didn't pick up, or that were leftover after running them all\n",
    "last_edits = ['\"addie\"', '\"gus\"', \"'\", '-', '\"artie\"', '\\(addy\\)', '\\(mazi\\)', ' \\(aussie/border collie\\)', ' \\(yorkie\\)--', \n",
    "             ' ,no longer taking applications', '. fka lacy', '\"cash\"', ' pending', 'asoption', 'aka clark', ' \" doogie\"', \n",
    "             '/pending', ', ', ' \"trooper\"', ' longer accepting applications', 'pending adoption', '\\)', '\"ollie\"', \n",
    "             '   mother of aladdin', '  medical hold until 9 weeks', ' /', ':  terrier/poodle']\n",
    "# Implementing stripping the strings from the list above from the pet_name column\n",
    "muddy_p_df.pet_name = muddy_p_df.pet_name.str.replace('|'.join(last_edits), '', regex = True).str.strip()"
   ]
  },
  {
   "cell_type": "code",
   "execution_count": 54,
   "id": "2601a5d8",
   "metadata": {},
   "outputs": [],
   "source": [
    "# Adding what is, hopefully, the very last list I will have to use for the pet_name column\n",
    "last_edits = ['(']\n",
    "\n",
    "# Initiating the for loop\n",
    "for str1 in last_edits:\n",
    "    # Choose the character strings to on which to split into lists if the row contains a string from the list\n",
    "    muddy_p_df.pet_name = muddy_p_df.pet_name.apply(lambda row: re.split('\\(', row) if str1 in row else row)\n",
    "    # If the element in the row is a list, remove the last entry in the list (on the right)\n",
    "    muddy_p_df.pet_name = muddy_p_df.pet_name.apply(lambda row: row.pop(0) if type(row) == list else row)"
   ]
  },
  {
   "cell_type": "code",
   "execution_count": 55,
   "id": "d0bdbc3d",
   "metadata": {},
   "outputs": [],
   "source": [
    "# Get rid of leading and ending spaces in each row of the pet_name column\n",
    "muddy_p_df.pet_name = muddy_p_df.pet_name.str.strip()"
   ]
  },
  {
   "cell_type": "markdown",
   "id": "790b78a8",
   "metadata": {},
   "source": [
    "I think there's one blank name in there, but it's not worth going back and arranging all the for loops again. This is about as good as the pet_name column is gonna get."
   ]
  },
  {
   "cell_type": "code",
   "execution_count": 56,
   "id": "371814a7",
   "metadata": {},
   "outputs": [],
   "source": [
    "# Get rid of leading and ending spaces in each row of the pet_name column\n",
    "muddy_p_df.pet_name = muddy_p_df.pet_name.str.strip()"
   ]
  },
  {
   "cell_type": "markdown",
   "id": "d56da551",
   "metadata": {},
   "source": [
    "Quickly changing the courtesy_post and cross_post columns to binary."
   ]
  },
  {
   "cell_type": "code",
   "execution_count": 57,
   "id": "c0ecf0e6",
   "metadata": {},
   "outputs": [],
   "source": [
    "# I want columns with only two possible responses to change to binary\n",
    "\n",
    "# Use .replace to change every no in the dataframe to 0 and every yes in the dataframe to 1\n",
    "# no=0, yes=1\n",
    "muddy_p_df = muddy_p_df.replace(to_replace = ['no', 'yes'], value = [0, 1])"
   ]
  },
  {
   "cell_type": "markdown",
   "id": "f1db0cc2",
   "metadata": {},
   "source": [
    "### End of Part 1"
   ]
  },
  {
   "cell_type": "code",
   "execution_count": 58,
   "id": "4b11861d",
   "metadata": {},
   "outputs": [],
   "source": [
    "muddy_p_df.to_excel('part_1_mp_cleaning.xlsx')"
   ]
  }
 ],
 "metadata": {
  "kernelspec": {
   "display_name": "Python 3 (ipykernel)",
   "language": "python",
   "name": "python3"
  },
  "language_info": {
   "codemirror_mode": {
    "name": "ipython",
    "version": 3
   },
   "file_extension": ".py",
   "mimetype": "text/x-python",
   "name": "python",
   "nbconvert_exporter": "python",
   "pygments_lexer": "ipython3",
   "version": "3.9.7"
  }
 },
 "nbformat": 4,
 "nbformat_minor": 5
}
